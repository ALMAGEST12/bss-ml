{
 "cells": [
  {
   "cell_type": "code",
   "execution_count": 1,
   "id": "fe060cea",
   "metadata": {},
   "outputs": [],
   "source": [
    "import warnings;\n",
    "warnings.simplefilter('ignore')"
   ]
  },
  {
   "cell_type": "code",
   "execution_count": 2,
   "id": "0c755ee3",
   "metadata": {},
   "outputs": [
    {
     "name": "stdout",
     "output_type": "stream",
     "text": [
      "Requirement already satisfied: Cython in c:\\users\\asus\\anaconda3\\lib\\site-packages (3.0.5)\n"
     ]
    }
   ],
   "source": [
    "!pip install Cython"
   ]
  },
  {
   "cell_type": "code",
   "execution_count": 3,
   "id": "78348140",
   "metadata": {},
   "outputs": [
    {
     "name": "stdout",
     "output_type": "stream",
     "text": [
      "Requirement already satisfied: pystan in c:\\users\\asus\\anaconda3\\lib\\site-packages (2.19.1.1)\n",
      "Requirement already satisfied: prophet in c:\\users\\asus\\anaconda3\\lib\\site-packages (1.1.4)\n",
      "Requirement already satisfied: Cython!=0.25.1,>=0.22 in c:\\users\\asus\\anaconda3\\lib\\site-packages (from pystan) (3.0.5)\n",
      "Requirement already satisfied: numpy>=1.7 in c:\\users\\asus\\anaconda3\\lib\\site-packages (from pystan) (1.22.0)\n",
      "Requirement already satisfied: cmdstanpy>=1.0.4 in c:\\users\\asus\\anaconda3\\lib\\site-packages (from prophet) (1.2.0)\n",
      "Requirement already satisfied: matplotlib>=2.0.0 in c:\\users\\asus\\anaconda3\\lib\\site-packages (from prophet) (3.7.0)\n",
      "Requirement already satisfied: pandas>=1.0.4 in c:\\users\\asus\\anaconda3\\lib\\site-packages (from prophet) (1.5.3)\n",
      "Requirement already satisfied: LunarCalendar>=0.0.9 in c:\\users\\asus\\anaconda3\\lib\\site-packages (from prophet) (0.0.9)\n",
      "Requirement already satisfied: convertdate>=2.1.2 in c:\\users\\asus\\anaconda3\\lib\\site-packages (from prophet) (2.4.0)\n",
      "Requirement already satisfied: holidays>=0.25 in c:\\users\\asus\\anaconda3\\lib\\site-packages (from prophet) (0.35)\n",
      "Requirement already satisfied: python-dateutil>=2.8.0 in c:\\users\\asus\\anaconda3\\lib\\site-packages (from prophet) (2.8.2)\n",
      "Requirement already satisfied: tqdm>=4.36.1 in c:\\users\\asus\\anaconda3\\lib\\site-packages (from prophet) (4.64.1)\n",
      "Requirement already satisfied: importlib-resources in c:\\users\\asus\\anaconda3\\lib\\site-packages (from prophet) (6.0.0)\n",
      "Requirement already satisfied: stanio~=0.3.0 in c:\\users\\asus\\anaconda3\\lib\\site-packages (from cmdstanpy>=1.0.4->prophet) (0.3.0)\n",
      "Requirement already satisfied: pymeeus<=1,>=0.3.13 in c:\\users\\asus\\anaconda3\\lib\\site-packages (from convertdate>=2.1.2->prophet) (0.5.12)\n",
      "Requirement already satisfied: ephem>=3.7.5.3 in c:\\users\\asus\\anaconda3\\lib\\site-packages (from LunarCalendar>=0.0.9->prophet) (4.1.2)\n",
      "Requirement already satisfied: pytz in c:\\users\\asus\\anaconda3\\lib\\site-packages (from LunarCalendar>=0.0.9->prophet) (2022.7)\n",
      "Requirement already satisfied: contourpy>=1.0.1 in c:\\users\\asus\\anaconda3\\lib\\site-packages (from matplotlib>=2.0.0->prophet) (1.0.5)\n",
      "Requirement already satisfied: cycler>=0.10 in c:\\users\\asus\\anaconda3\\lib\\site-packages (from matplotlib>=2.0.0->prophet) (0.11.0)\n",
      "Requirement already satisfied: fonttools>=4.22.0 in c:\\users\\asus\\anaconda3\\lib\\site-packages (from matplotlib>=2.0.0->prophet) (4.25.0)\n",
      "Requirement already satisfied: kiwisolver>=1.0.1 in c:\\users\\asus\\anaconda3\\lib\\site-packages (from matplotlib>=2.0.0->prophet) (1.4.4)\n",
      "Requirement already satisfied: packaging>=20.0 in c:\\users\\asus\\anaconda3\\lib\\site-packages (from matplotlib>=2.0.0->prophet) (22.0)\n",
      "Requirement already satisfied: pillow>=6.2.0 in c:\\users\\asus\\anaconda3\\lib\\site-packages (from matplotlib>=2.0.0->prophet) (9.4.0)\n",
      "Requirement already satisfied: pyparsing>=2.3.1 in c:\\users\\asus\\anaconda3\\lib\\site-packages (from matplotlib>=2.0.0->prophet) (3.0.9)\n",
      "Requirement already satisfied: six>=1.5 in c:\\users\\asus\\anaconda3\\lib\\site-packages (from python-dateutil>=2.8.0->prophet) (1.16.0)\n",
      "Requirement already satisfied: colorama in c:\\users\\asus\\anaconda3\\lib\\site-packages (from tqdm>=4.36.1->prophet) (0.4.6)\n"
     ]
    }
   ],
   "source": [
    "!pip install pystan prophet"
   ]
  },
  {
   "cell_type": "code",
   "execution_count": 4,
   "id": "f38db00a",
   "metadata": {},
   "outputs": [],
   "source": [
    "import pandas as pd\n",
    "file_path = \"D:/KP/DataHafalanSiswa.csv\"  # Replace with your actual file path\n",
    "df = pd.read_csv(file_path)\n",
    "from prophet import Prophet"
   ]
  },
  {
   "cell_type": "code",
   "execution_count": 5,
   "id": "0fa2651a",
   "metadata": {},
   "outputs": [
    {
     "data": {
      "text/plain": [
       "<bound method NDFrame.head of                nama_lengkap       Date    sesi presensi  ayat_terakhir  \\\n",
       "0       ABDUL HASYA LESMANA   8/1/2022  Magrib        H              0   \n",
       "1       ABDUL HASYA LESMANA   8/1/2022   Subuh        H              9   \n",
       "2       ABDUL HASYA LESMANA   8/2/2022   Subuh        H             16   \n",
       "3       ABDUL HASYA LESMANA   8/2/2022  Magrib        H              0   \n",
       "4       ABDUL HASYA LESMANA   8/3/2022  Magrib        H              0   \n",
       "...                     ...        ...     ...      ...            ...   \n",
       "445553  ZUBAIR AHMAD SHOBIR  6/17/2023   Subuh        H              0   \n",
       "445554  ZUBAIR AHMAD SHOBIR  6/19/2023   Subuh        H              0   \n",
       "445555  ZUBAIR AHMAD SHOBIR  6/20/2023  Magrib        H              0   \n",
       "445556  ZUBAIR AHMAD SHOBIR  6/20/2023   Subuh        H              0   \n",
       "445557  ZUBAIR AHMAD SHOBIR  6/21/2023   Subuh        H              0   \n",
       "\n",
       "        jumlah_baris  \n",
       "0                  0  \n",
       "1                  5  \n",
       "2                  3  \n",
       "3                  0  \n",
       "4                  0  \n",
       "...              ...  \n",
       "445553             0  \n",
       "445554             0  \n",
       "445555             0  \n",
       "445556             0  \n",
       "445557             0  \n",
       "\n",
       "[445558 rows x 6 columns]>"
      ]
     },
     "execution_count": 5,
     "metadata": {},
     "output_type": "execute_result"
    }
   ],
   "source": [
    "df.head"
   ]
  },
  {
   "cell_type": "code",
   "execution_count": 6,
   "id": "2b560d54",
   "metadata": {
    "scrolled": true
   },
   "outputs": [
    {
     "data": {
      "text/plain": [
       "nama_lengkap     object\n",
       "Date             object\n",
       "sesi             object\n",
       "presensi         object\n",
       "ayat_terakhir     int64\n",
       "jumlah_baris      int64\n",
       "dtype: object"
      ]
     },
     "execution_count": 6,
     "metadata": {},
     "output_type": "execute_result"
    }
   ],
   "source": [
    "df.dtypes"
   ]
  },
  {
   "cell_type": "code",
   "execution_count": 36,
   "id": "691d7395",
   "metadata": {},
   "outputs": [
    {
     "name": "stdout",
     "output_type": "stream",
     "text": [
      "Nama Siswa : ABDUL HASYA LESMANA\n"
     ]
    }
   ],
   "source": [
    "nama = input(\"Nama Siswa : \")\n",
    "name = nama"
   ]
  },
  {
   "cell_type": "markdown",
   "id": "f3752b2b",
   "metadata": {},
   "source": [
    "Preprocessing"
   ]
  },
  {
   "cell_type": "code",
   "execution_count": 37,
   "id": "2c10f0ad",
   "metadata": {},
   "outputs": [
    {
     "data": {
      "text/html": [
       "<div>\n",
       "<style scoped>\n",
       "    .dataframe tbody tr th:only-of-type {\n",
       "        vertical-align: middle;\n",
       "    }\n",
       "\n",
       "    .dataframe tbody tr th {\n",
       "        vertical-align: top;\n",
       "    }\n",
       "\n",
       "    .dataframe thead th {\n",
       "        text-align: right;\n",
       "    }\n",
       "</style>\n",
       "<table border=\"1\" class=\"dataframe\">\n",
       "  <thead>\n",
       "    <tr style=\"text-align: right;\">\n",
       "      <th></th>\n",
       "      <th>nama_lengkap</th>\n",
       "      <th>Date</th>\n",
       "      <th>sesi</th>\n",
       "      <th>presensi</th>\n",
       "      <th>ayat_terakhir</th>\n",
       "      <th>jumlah_baris</th>\n",
       "    </tr>\n",
       "  </thead>\n",
       "  <tbody>\n",
       "    <tr>\n",
       "      <th>0</th>\n",
       "      <td>ABDUL HASYA LESMANA</td>\n",
       "      <td>2022-08-01</td>\n",
       "      <td>Magrib</td>\n",
       "      <td>H</td>\n",
       "      <td>0</td>\n",
       "      <td>0</td>\n",
       "    </tr>\n",
       "    <tr>\n",
       "      <th>1</th>\n",
       "      <td>ABDUL HASYA LESMANA</td>\n",
       "      <td>2022-08-01</td>\n",
       "      <td>Subuh</td>\n",
       "      <td>H</td>\n",
       "      <td>9</td>\n",
       "      <td>5</td>\n",
       "    </tr>\n",
       "    <tr>\n",
       "      <th>2</th>\n",
       "      <td>ABDUL HASYA LESMANA</td>\n",
       "      <td>2022-08-02</td>\n",
       "      <td>Subuh</td>\n",
       "      <td>H</td>\n",
       "      <td>16</td>\n",
       "      <td>3</td>\n",
       "    </tr>\n",
       "    <tr>\n",
       "      <th>3</th>\n",
       "      <td>ABDUL HASYA LESMANA</td>\n",
       "      <td>2022-08-02</td>\n",
       "      <td>Magrib</td>\n",
       "      <td>H</td>\n",
       "      <td>0</td>\n",
       "      <td>0</td>\n",
       "    </tr>\n",
       "    <tr>\n",
       "      <th>4</th>\n",
       "      <td>ABDUL HASYA LESMANA</td>\n",
       "      <td>2022-08-03</td>\n",
       "      <td>Magrib</td>\n",
       "      <td>H</td>\n",
       "      <td>0</td>\n",
       "      <td>0</td>\n",
       "    </tr>\n",
       "    <tr>\n",
       "      <th>...</th>\n",
       "      <td>...</td>\n",
       "      <td>...</td>\n",
       "      <td>...</td>\n",
       "      <td>...</td>\n",
       "      <td>...</td>\n",
       "      <td>...</td>\n",
       "    </tr>\n",
       "    <tr>\n",
       "      <th>445553</th>\n",
       "      <td>ZUBAIR AHMAD SHOBIR</td>\n",
       "      <td>2023-06-17</td>\n",
       "      <td>Subuh</td>\n",
       "      <td>H</td>\n",
       "      <td>0</td>\n",
       "      <td>0</td>\n",
       "    </tr>\n",
       "    <tr>\n",
       "      <th>445554</th>\n",
       "      <td>ZUBAIR AHMAD SHOBIR</td>\n",
       "      <td>2023-06-19</td>\n",
       "      <td>Subuh</td>\n",
       "      <td>H</td>\n",
       "      <td>0</td>\n",
       "      <td>0</td>\n",
       "    </tr>\n",
       "    <tr>\n",
       "      <th>445555</th>\n",
       "      <td>ZUBAIR AHMAD SHOBIR</td>\n",
       "      <td>2023-06-20</td>\n",
       "      <td>Magrib</td>\n",
       "      <td>H</td>\n",
       "      <td>0</td>\n",
       "      <td>0</td>\n",
       "    </tr>\n",
       "    <tr>\n",
       "      <th>445556</th>\n",
       "      <td>ZUBAIR AHMAD SHOBIR</td>\n",
       "      <td>2023-06-20</td>\n",
       "      <td>Subuh</td>\n",
       "      <td>H</td>\n",
       "      <td>0</td>\n",
       "      <td>0</td>\n",
       "    </tr>\n",
       "    <tr>\n",
       "      <th>445557</th>\n",
       "      <td>ZUBAIR AHMAD SHOBIR</td>\n",
       "      <td>2023-06-21</td>\n",
       "      <td>Subuh</td>\n",
       "      <td>H</td>\n",
       "      <td>0</td>\n",
       "      <td>0</td>\n",
       "    </tr>\n",
       "  </tbody>\n",
       "</table>\n",
       "<p>445558 rows × 6 columns</p>\n",
       "</div>"
      ],
      "text/plain": [
       "               nama_lengkap       Date    sesi presensi  ayat_terakhir  \\\n",
       "0       ABDUL HASYA LESMANA 2022-08-01  Magrib        H              0   \n",
       "1       ABDUL HASYA LESMANA 2022-08-01   Subuh        H              9   \n",
       "2       ABDUL HASYA LESMANA 2022-08-02   Subuh        H             16   \n",
       "3       ABDUL HASYA LESMANA 2022-08-02  Magrib        H              0   \n",
       "4       ABDUL HASYA LESMANA 2022-08-03  Magrib        H              0   \n",
       "...                     ...        ...     ...      ...            ...   \n",
       "445553  ZUBAIR AHMAD SHOBIR 2023-06-17   Subuh        H              0   \n",
       "445554  ZUBAIR AHMAD SHOBIR 2023-06-19   Subuh        H              0   \n",
       "445555  ZUBAIR AHMAD SHOBIR 2023-06-20  Magrib        H              0   \n",
       "445556  ZUBAIR AHMAD SHOBIR 2023-06-20   Subuh        H              0   \n",
       "445557  ZUBAIR AHMAD SHOBIR 2023-06-21   Subuh        H              0   \n",
       "\n",
       "        jumlah_baris  \n",
       "0                  0  \n",
       "1                  5  \n",
       "2                  3  \n",
       "3                  0  \n",
       "4                  0  \n",
       "...              ...  \n",
       "445553             0  \n",
       "445554             0  \n",
       "445555             0  \n",
       "445556             0  \n",
       "445557             0  \n",
       "\n",
       "[445558 rows x 6 columns]"
      ]
     },
     "execution_count": 37,
     "metadata": {},
     "output_type": "execute_result"
    }
   ],
   "source": [
    "df['Date']=pd.to_datetime(df['Date'])\n",
    "df['jumlah_baris']=pd.to_numeric(df['jumlah_baris'])\n",
    "df"
   ]
  },
  {
   "cell_type": "code",
   "execution_count": 40,
   "id": "e3222564",
   "metadata": {},
   "outputs": [
    {
     "name": "stdout",
     "output_type": "stream",
     "text": [
      "ABDUL HASYA LESMANA\n"
     ]
    }
   ],
   "source": [
    "kolom = ['sesi', 'presensi','ayat_terakhir','nama_lengkap']\n",
    "frame = df[df['nama_lengkap'] == name].copy()"
   ]
  },
  {
   "cell_type": "code",
   "execution_count": 39,
   "id": "069d9573",
   "metadata": {},
   "outputs": [
    {
     "data": {
      "text/html": [
       "<div>\n",
       "<style scoped>\n",
       "    .dataframe tbody tr th:only-of-type {\n",
       "        vertical-align: middle;\n",
       "    }\n",
       "\n",
       "    .dataframe tbody tr th {\n",
       "        vertical-align: top;\n",
       "    }\n",
       "\n",
       "    .dataframe thead th {\n",
       "        text-align: right;\n",
       "    }\n",
       "</style>\n",
       "<table border=\"1\" class=\"dataframe\">\n",
       "  <thead>\n",
       "    <tr style=\"text-align: right;\">\n",
       "      <th></th>\n",
       "      <th>nama_lengkap</th>\n",
       "      <th>Date</th>\n",
       "      <th>sesi</th>\n",
       "      <th>presensi</th>\n",
       "      <th>ayat_terakhir</th>\n",
       "      <th>jumlah_baris</th>\n",
       "    </tr>\n",
       "  </thead>\n",
       "  <tbody>\n",
       "    <tr>\n",
       "      <th>0</th>\n",
       "      <td>ABDUL HASYA LESMANA</td>\n",
       "      <td>2022-08-01</td>\n",
       "      <td>Magrib</td>\n",
       "      <td>H</td>\n",
       "      <td>0</td>\n",
       "      <td>0</td>\n",
       "    </tr>\n",
       "    <tr>\n",
       "      <th>1</th>\n",
       "      <td>ABDUL HASYA LESMANA</td>\n",
       "      <td>2022-08-01</td>\n",
       "      <td>Subuh</td>\n",
       "      <td>H</td>\n",
       "      <td>9</td>\n",
       "      <td>5</td>\n",
       "    </tr>\n",
       "    <tr>\n",
       "      <th>2</th>\n",
       "      <td>ABDUL HASYA LESMANA</td>\n",
       "      <td>2022-08-02</td>\n",
       "      <td>Subuh</td>\n",
       "      <td>H</td>\n",
       "      <td>16</td>\n",
       "      <td>3</td>\n",
       "    </tr>\n",
       "    <tr>\n",
       "      <th>3</th>\n",
       "      <td>ABDUL HASYA LESMANA</td>\n",
       "      <td>2022-08-02</td>\n",
       "      <td>Magrib</td>\n",
       "      <td>H</td>\n",
       "      <td>0</td>\n",
       "      <td>0</td>\n",
       "    </tr>\n",
       "    <tr>\n",
       "      <th>4</th>\n",
       "      <td>ABDUL HASYA LESMANA</td>\n",
       "      <td>2022-08-03</td>\n",
       "      <td>Magrib</td>\n",
       "      <td>H</td>\n",
       "      <td>0</td>\n",
       "      <td>0</td>\n",
       "    </tr>\n",
       "    <tr>\n",
       "      <th>...</th>\n",
       "      <td>...</td>\n",
       "      <td>...</td>\n",
       "      <td>...</td>\n",
       "      <td>...</td>\n",
       "      <td>...</td>\n",
       "      <td>...</td>\n",
       "    </tr>\n",
       "    <tr>\n",
       "      <th>366</th>\n",
       "      <td>ABDUL HASYA LESMANA</td>\n",
       "      <td>2023-06-21</td>\n",
       "      <td>Subuh</td>\n",
       "      <td>H</td>\n",
       "      <td>0</td>\n",
       "      <td>0</td>\n",
       "    </tr>\n",
       "    <tr>\n",
       "      <th>367</th>\n",
       "      <td>ABDUL HASYA LESMANA</td>\n",
       "      <td>2023-06-21</td>\n",
       "      <td>Magrib</td>\n",
       "      <td>H</td>\n",
       "      <td>0</td>\n",
       "      <td>0</td>\n",
       "    </tr>\n",
       "    <tr>\n",
       "      <th>368</th>\n",
       "      <td>ABDUL HASYA LESMANA</td>\n",
       "      <td>2023-06-22</td>\n",
       "      <td>Subuh</td>\n",
       "      <td>H</td>\n",
       "      <td>0</td>\n",
       "      <td>0</td>\n",
       "    </tr>\n",
       "    <tr>\n",
       "      <th>369</th>\n",
       "      <td>ABDUL HASYA LESMANA</td>\n",
       "      <td>2023-07-24</td>\n",
       "      <td>Subuh</td>\n",
       "      <td>H</td>\n",
       "      <td>0</td>\n",
       "      <td>0</td>\n",
       "    </tr>\n",
       "    <tr>\n",
       "      <th>370</th>\n",
       "      <td>ABDUL HASYA LESMANA</td>\n",
       "      <td>2023-07-25</td>\n",
       "      <td>Subuh</td>\n",
       "      <td>H</td>\n",
       "      <td>0</td>\n",
       "      <td>0</td>\n",
       "    </tr>\n",
       "  </tbody>\n",
       "</table>\n",
       "<p>371 rows × 6 columns</p>\n",
       "</div>"
      ],
      "text/plain": [
       "            nama_lengkap       Date    sesi presensi  ayat_terakhir  \\\n",
       "0    ABDUL HASYA LESMANA 2022-08-01  Magrib        H              0   \n",
       "1    ABDUL HASYA LESMANA 2022-08-01   Subuh        H              9   \n",
       "2    ABDUL HASYA LESMANA 2022-08-02   Subuh        H             16   \n",
       "3    ABDUL HASYA LESMANA 2022-08-02  Magrib        H              0   \n",
       "4    ABDUL HASYA LESMANA 2022-08-03  Magrib        H              0   \n",
       "..                   ...        ...     ...      ...            ...   \n",
       "366  ABDUL HASYA LESMANA 2023-06-21   Subuh        H              0   \n",
       "367  ABDUL HASYA LESMANA 2023-06-21  Magrib        H              0   \n",
       "368  ABDUL HASYA LESMANA 2023-06-22   Subuh        H              0   \n",
       "369  ABDUL HASYA LESMANA 2023-07-24   Subuh        H              0   \n",
       "370  ABDUL HASYA LESMANA 2023-07-25   Subuh        H              0   \n",
       "\n",
       "     jumlah_baris  \n",
       "0               0  \n",
       "1               5  \n",
       "2               3  \n",
       "3               0  \n",
       "4               0  \n",
       "..            ...  \n",
       "366             0  \n",
       "367             0  \n",
       "368             0  \n",
       "369             0  \n",
       "370             0  \n",
       "\n",
       "[371 rows x 6 columns]"
      ]
     },
     "execution_count": 39,
     "metadata": {},
     "output_type": "execute_result"
    }
   ],
   "source": [
    "frame"
   ]
  },
  {
   "cell_type": "code",
   "execution_count": 11,
   "id": "133fc973",
   "metadata": {},
   "outputs": [],
   "source": [
    "frame.drop(kolom, axis=1, inplace=True)"
   ]
  },
  {
   "cell_type": "code",
   "execution_count": 12,
   "id": "6b887285",
   "metadata": {},
   "outputs": [
    {
     "data": {
      "text/html": [
       "<div>\n",
       "<style scoped>\n",
       "    .dataframe tbody tr th:only-of-type {\n",
       "        vertical-align: middle;\n",
       "    }\n",
       "\n",
       "    .dataframe tbody tr th {\n",
       "        vertical-align: top;\n",
       "    }\n",
       "\n",
       "    .dataframe thead th {\n",
       "        text-align: right;\n",
       "    }\n",
       "</style>\n",
       "<table border=\"1\" class=\"dataframe\">\n",
       "  <thead>\n",
       "    <tr style=\"text-align: right;\">\n",
       "      <th></th>\n",
       "      <th>Date</th>\n",
       "      <th>jumlah_baris</th>\n",
       "    </tr>\n",
       "  </thead>\n",
       "  <tbody>\n",
       "    <tr>\n",
       "      <th>0</th>\n",
       "      <td>2022-08-01</td>\n",
       "      <td>0</td>\n",
       "    </tr>\n",
       "    <tr>\n",
       "      <th>1</th>\n",
       "      <td>2022-08-01</td>\n",
       "      <td>5</td>\n",
       "    </tr>\n",
       "    <tr>\n",
       "      <th>2</th>\n",
       "      <td>2022-08-02</td>\n",
       "      <td>3</td>\n",
       "    </tr>\n",
       "    <tr>\n",
       "      <th>3</th>\n",
       "      <td>2022-08-02</td>\n",
       "      <td>0</td>\n",
       "    </tr>\n",
       "    <tr>\n",
       "      <th>4</th>\n",
       "      <td>2022-08-03</td>\n",
       "      <td>0</td>\n",
       "    </tr>\n",
       "    <tr>\n",
       "      <th>...</th>\n",
       "      <td>...</td>\n",
       "      <td>...</td>\n",
       "    </tr>\n",
       "    <tr>\n",
       "      <th>366</th>\n",
       "      <td>2023-06-21</td>\n",
       "      <td>0</td>\n",
       "    </tr>\n",
       "    <tr>\n",
       "      <th>367</th>\n",
       "      <td>2023-06-21</td>\n",
       "      <td>0</td>\n",
       "    </tr>\n",
       "    <tr>\n",
       "      <th>368</th>\n",
       "      <td>2023-06-22</td>\n",
       "      <td>0</td>\n",
       "    </tr>\n",
       "    <tr>\n",
       "      <th>369</th>\n",
       "      <td>2023-07-24</td>\n",
       "      <td>0</td>\n",
       "    </tr>\n",
       "    <tr>\n",
       "      <th>370</th>\n",
       "      <td>2023-07-25</td>\n",
       "      <td>0</td>\n",
       "    </tr>\n",
       "  </tbody>\n",
       "</table>\n",
       "<p>371 rows × 2 columns</p>\n",
       "</div>"
      ],
      "text/plain": [
       "          Date  jumlah_baris\n",
       "0   2022-08-01             0\n",
       "1   2022-08-01             5\n",
       "2   2022-08-02             3\n",
       "3   2022-08-02             0\n",
       "4   2022-08-03             0\n",
       "..         ...           ...\n",
       "366 2023-06-21             0\n",
       "367 2023-06-21             0\n",
       "368 2023-06-22             0\n",
       "369 2023-07-24             0\n",
       "370 2023-07-25             0\n",
       "\n",
       "[371 rows x 2 columns]"
      ]
     },
     "execution_count": 12,
     "metadata": {},
     "output_type": "execute_result"
    }
   ],
   "source": [
    "frame"
   ]
  },
  {
   "cell_type": "code",
   "execution_count": 13,
   "id": "11431c67",
   "metadata": {},
   "outputs": [],
   "source": [
    "frame.columns = ['ds', 'y']"
   ]
  },
  {
   "cell_type": "code",
   "execution_count": 14,
   "id": "cfcc5856",
   "metadata": {},
   "outputs": [
    {
     "data": {
      "text/html": [
       "<div>\n",
       "<style scoped>\n",
       "    .dataframe tbody tr th:only-of-type {\n",
       "        vertical-align: middle;\n",
       "    }\n",
       "\n",
       "    .dataframe tbody tr th {\n",
       "        vertical-align: top;\n",
       "    }\n",
       "\n",
       "    .dataframe thead th {\n",
       "        text-align: right;\n",
       "    }\n",
       "</style>\n",
       "<table border=\"1\" class=\"dataframe\">\n",
       "  <thead>\n",
       "    <tr style=\"text-align: right;\">\n",
       "      <th></th>\n",
       "      <th>ds</th>\n",
       "      <th>y</th>\n",
       "    </tr>\n",
       "  </thead>\n",
       "  <tbody>\n",
       "    <tr>\n",
       "      <th>0</th>\n",
       "      <td>2022-08-01</td>\n",
       "      <td>0</td>\n",
       "    </tr>\n",
       "    <tr>\n",
       "      <th>1</th>\n",
       "      <td>2022-08-01</td>\n",
       "      <td>5</td>\n",
       "    </tr>\n",
       "    <tr>\n",
       "      <th>2</th>\n",
       "      <td>2022-08-02</td>\n",
       "      <td>3</td>\n",
       "    </tr>\n",
       "    <tr>\n",
       "      <th>3</th>\n",
       "      <td>2022-08-02</td>\n",
       "      <td>0</td>\n",
       "    </tr>\n",
       "    <tr>\n",
       "      <th>4</th>\n",
       "      <td>2022-08-03</td>\n",
       "      <td>0</td>\n",
       "    </tr>\n",
       "  </tbody>\n",
       "</table>\n",
       "</div>"
      ],
      "text/plain": [
       "          ds  y\n",
       "0 2022-08-01  0\n",
       "1 2022-08-01  5\n",
       "2 2022-08-02  3\n",
       "3 2022-08-02  0\n",
       "4 2022-08-03  0"
      ]
     },
     "execution_count": 14,
     "metadata": {},
     "output_type": "execute_result"
    }
   ],
   "source": [
    "frame.head()"
   ]
  },
  {
   "cell_type": "code",
   "execution_count": 15,
   "id": "0c0dd82d",
   "metadata": {},
   "outputs": [],
   "source": [
    "m = Prophet(interval_width=0.95) "
   ]
  },
  {
   "cell_type": "code",
   "execution_count": 16,
   "id": "7cf1bdd5",
   "metadata": {},
   "outputs": [
    {
     "name": "stderr",
     "output_type": "stream",
     "text": [
      "21:03:07 - cmdstanpy - INFO - Chain [1] start processing\n",
      "21:03:07 - cmdstanpy - INFO - Chain [1] done processing\n"
     ]
    }
   ],
   "source": [
    "training_run = m.fit(frame)"
   ]
  },
  {
   "cell_type": "code",
   "execution_count": 17,
   "id": "b7d2f389",
   "metadata": {},
   "outputs": [],
   "source": [
    "future = m.make_future_dataframe(periods=30, freq='D')"
   ]
  },
  {
   "cell_type": "code",
   "execution_count": 18,
   "id": "919d619e",
   "metadata": {},
   "outputs": [],
   "source": [
    "forecast = m.predict(future)"
   ]
  },
  {
   "cell_type": "code",
   "execution_count": 19,
   "id": "ba1b435e",
   "metadata": {},
   "outputs": [
    {
     "data": {
      "text/html": [
       "<div>\n",
       "<style scoped>\n",
       "    .dataframe tbody tr th:only-of-type {\n",
       "        vertical-align: middle;\n",
       "    }\n",
       "\n",
       "    .dataframe tbody tr th {\n",
       "        vertical-align: top;\n",
       "    }\n",
       "\n",
       "    .dataframe thead th {\n",
       "        text-align: right;\n",
       "    }\n",
       "</style>\n",
       "<table border=\"1\" class=\"dataframe\">\n",
       "  <thead>\n",
       "    <tr style=\"text-align: right;\">\n",
       "      <th></th>\n",
       "      <th>ds</th>\n",
       "      <th>trend</th>\n",
       "      <th>yhat_lower</th>\n",
       "      <th>yhat_upper</th>\n",
       "      <th>trend_lower</th>\n",
       "      <th>trend_upper</th>\n",
       "      <th>additive_terms</th>\n",
       "      <th>additive_terms_lower</th>\n",
       "      <th>additive_terms_upper</th>\n",
       "      <th>weekly</th>\n",
       "      <th>weekly_lower</th>\n",
       "      <th>weekly_upper</th>\n",
       "      <th>multiplicative_terms</th>\n",
       "      <th>multiplicative_terms_lower</th>\n",
       "      <th>multiplicative_terms_upper</th>\n",
       "      <th>yhat</th>\n",
       "    </tr>\n",
       "  </thead>\n",
       "  <tbody>\n",
       "    <tr>\n",
       "      <th>0</th>\n",
       "      <td>2022-08-01</td>\n",
       "      <td>3.082037</td>\n",
       "      <td>-7.034470</td>\n",
       "      <td>13.379880</td>\n",
       "      <td>3.082037</td>\n",
       "      <td>3.082037</td>\n",
       "      <td>-0.074695</td>\n",
       "      <td>-0.074695</td>\n",
       "      <td>-0.074695</td>\n",
       "      <td>-0.074695</td>\n",
       "      <td>-0.074695</td>\n",
       "      <td>-0.074695</td>\n",
       "      <td>0.0</td>\n",
       "      <td>0.0</td>\n",
       "      <td>0.0</td>\n",
       "      <td>3.007342</td>\n",
       "    </tr>\n",
       "    <tr>\n",
       "      <th>1</th>\n",
       "      <td>2022-08-02</td>\n",
       "      <td>3.081682</td>\n",
       "      <td>-7.243530</td>\n",
       "      <td>13.785510</td>\n",
       "      <td>3.081682</td>\n",
       "      <td>3.081682</td>\n",
       "      <td>0.655001</td>\n",
       "      <td>0.655001</td>\n",
       "      <td>0.655001</td>\n",
       "      <td>0.655001</td>\n",
       "      <td>0.655001</td>\n",
       "      <td>0.655001</td>\n",
       "      <td>0.0</td>\n",
       "      <td>0.0</td>\n",
       "      <td>0.0</td>\n",
       "      <td>3.736683</td>\n",
       "    </tr>\n",
       "    <tr>\n",
       "      <th>2</th>\n",
       "      <td>2022-08-03</td>\n",
       "      <td>3.081327</td>\n",
       "      <td>-7.575419</td>\n",
       "      <td>13.382446</td>\n",
       "      <td>3.081327</td>\n",
       "      <td>3.081327</td>\n",
       "      <td>0.027798</td>\n",
       "      <td>0.027798</td>\n",
       "      <td>0.027798</td>\n",
       "      <td>0.027798</td>\n",
       "      <td>0.027798</td>\n",
       "      <td>0.027798</td>\n",
       "      <td>0.0</td>\n",
       "      <td>0.0</td>\n",
       "      <td>0.0</td>\n",
       "      <td>3.109125</td>\n",
       "    </tr>\n",
       "    <tr>\n",
       "      <th>3</th>\n",
       "      <td>2022-08-04</td>\n",
       "      <td>3.080973</td>\n",
       "      <td>-6.873069</td>\n",
       "      <td>12.794400</td>\n",
       "      <td>3.080973</td>\n",
       "      <td>3.080973</td>\n",
       "      <td>-0.127115</td>\n",
       "      <td>-0.127115</td>\n",
       "      <td>-0.127115</td>\n",
       "      <td>-0.127115</td>\n",
       "      <td>-0.127115</td>\n",
       "      <td>-0.127115</td>\n",
       "      <td>0.0</td>\n",
       "      <td>0.0</td>\n",
       "      <td>0.0</td>\n",
       "      <td>2.953858</td>\n",
       "    </tr>\n",
       "    <tr>\n",
       "      <th>4</th>\n",
       "      <td>2022-08-05</td>\n",
       "      <td>3.080618</td>\n",
       "      <td>-6.277057</td>\n",
       "      <td>14.769189</td>\n",
       "      <td>3.080618</td>\n",
       "      <td>3.080618</td>\n",
       "      <td>1.034885</td>\n",
       "      <td>1.034885</td>\n",
       "      <td>1.034885</td>\n",
       "      <td>1.034885</td>\n",
       "      <td>1.034885</td>\n",
       "      <td>1.034885</td>\n",
       "      <td>0.0</td>\n",
       "      <td>0.0</td>\n",
       "      <td>0.0</td>\n",
       "      <td>4.115503</td>\n",
       "    </tr>\n",
       "  </tbody>\n",
       "</table>\n",
       "</div>"
      ],
      "text/plain": [
       "          ds     trend  yhat_lower  yhat_upper  trend_lower  trend_upper  \\\n",
       "0 2022-08-01  3.082037   -7.034470   13.379880     3.082037     3.082037   \n",
       "1 2022-08-02  3.081682   -7.243530   13.785510     3.081682     3.081682   \n",
       "2 2022-08-03  3.081327   -7.575419   13.382446     3.081327     3.081327   \n",
       "3 2022-08-04  3.080973   -6.873069   12.794400     3.080973     3.080973   \n",
       "4 2022-08-05  3.080618   -6.277057   14.769189     3.080618     3.080618   \n",
       "\n",
       "   additive_terms  additive_terms_lower  additive_terms_upper    weekly  \\\n",
       "0       -0.074695             -0.074695             -0.074695 -0.074695   \n",
       "1        0.655001              0.655001              0.655001  0.655001   \n",
       "2        0.027798              0.027798              0.027798  0.027798   \n",
       "3       -0.127115             -0.127115             -0.127115 -0.127115   \n",
       "4        1.034885              1.034885              1.034885  1.034885   \n",
       "\n",
       "   weekly_lower  weekly_upper  multiplicative_terms  \\\n",
       "0     -0.074695     -0.074695                   0.0   \n",
       "1      0.655001      0.655001                   0.0   \n",
       "2      0.027798      0.027798                   0.0   \n",
       "3     -0.127115     -0.127115                   0.0   \n",
       "4      1.034885      1.034885                   0.0   \n",
       "\n",
       "   multiplicative_terms_lower  multiplicative_terms_upper      yhat  \n",
       "0                         0.0                         0.0  3.007342  \n",
       "1                         0.0                         0.0  3.736683  \n",
       "2                         0.0                         0.0  3.109125  \n",
       "3                         0.0                         0.0  2.953858  \n",
       "4                         0.0                         0.0  4.115503  "
      ]
     },
     "execution_count": 19,
     "metadata": {},
     "output_type": "execute_result"
    }
   ],
   "source": [
    "forecast.head()"
   ]
  },
  {
   "cell_type": "code",
   "execution_count": 20,
   "id": "2de8fc0f",
   "metadata": {},
   "outputs": [
    {
     "data": {
      "image/png": "[encoded data removed]",
      "text/plain": [
       "<Figure size 1000x600 with 1 Axes>"
      ]
     },
     "metadata": {},
     "output_type": "display_data"
    }
   ],
   "source": [
    "plot1 = m.plot(forecast)"
   ]
  },
  {
   "cell_type": "code",
   "execution_count": 21,
   "id": "9e4891ec",
   "metadata": {},
   "outputs": [
    {
     "data": {
      "image/png": "[encoded data removed]",
      "text/plain": [
       "<Figure size 900x600 with 2 Axes>"
      ]
     },
     "metadata": {},
     "output_type": "display_data"
    }
   ],
   "source": [
    "plot2 = m.plot_components(forecast)"
   ]
  },
  {
   "cell_type": "code",
   "execution_count": 22,
   "id": "4f5aafc9",
   "metadata": {},
   "outputs": [
    {
     "data": {
      "text/plain": [
       "<bound method NDFrame.tail of             ds\n",
       "0   2022-08-01\n",
       "1   2022-08-02\n",
       "2   2022-08-03\n",
       "3   2022-08-04\n",
       "4   2022-08-05\n",
       "..         ...\n",
       "259 2023-08-20\n",
       "260 2023-08-21\n",
       "261 2023-08-22\n",
       "262 2023-08-23\n",
       "263 2023-08-24\n",
       "\n",
       "[264 rows x 1 columns]>"
      ]
     },
     "execution_count": 22,
     "metadata": {},
     "output_type": "execute_result"
    }
   ],
   "source": [
    "future.tail"
   ]
  },
  {
   "cell_type": "code",
   "execution_count": 23,
   "id": "798bac6d",
   "metadata": {},
   "outputs": [
    {
     "data": {
      "text/plain": [
       "<bound method NDFrame.head of             ds     trend  yhat_lower  yhat_upper  trend_lower  trend_upper  \\\n",
       "0   2022-08-01  3.082037   -7.034470   13.379880     3.082037     3.082037   \n",
       "1   2022-08-02  3.081682   -7.243530   13.785510     3.081682     3.081682   \n",
       "2   2022-08-03  3.081327   -7.575419   13.382446     3.081327     3.081327   \n",
       "3   2022-08-04  3.080973   -6.873069   12.794400     3.080973     3.080973   \n",
       "4   2022-08-05  3.080618   -6.277057   14.769189     3.080618     3.080618   \n",
       "..         ...       ...         ...         ...          ...          ...   \n",
       "259 2023-08-20  0.198489  -11.727681    8.382923     0.175399     0.221143   \n",
       "260 2023-08-21  0.189026   -9.815722   10.458579     0.164695     0.213202   \n",
       "261 2023-08-22  0.179562   -9.739375   10.405590     0.153988     0.205268   \n",
       "262 2023-08-23  0.170098   -9.707797   10.411828     0.143139     0.197087   \n",
       "263 2023-08-24  0.160635  -10.170503   10.657862     0.131954     0.189119   \n",
       "\n",
       "     additive_terms  additive_terms_lower  additive_terms_upper    weekly  \\\n",
       "0         -0.074695             -0.074695             -0.074695 -0.074695   \n",
       "1          0.655001              0.655001              0.655001  0.655001   \n",
       "2          0.027798              0.027798              0.027798  0.027798   \n",
       "3         -0.127115             -0.127115             -0.127115 -0.127115   \n",
       "4          1.034885              1.034885              1.034885  1.034885   \n",
       "..              ...                   ...                   ...       ...   \n",
       "259       -1.541046             -1.541046             -1.541046 -1.541046   \n",
       "260       -0.074695             -0.074695             -0.074695 -0.074695   \n",
       "261        0.655001              0.655001              0.655001  0.655001   \n",
       "262        0.027798              0.027798              0.027798  0.027798   \n",
       "263       -0.127115             -0.127115             -0.127115 -0.127115   \n",
       "\n",
       "     weekly_lower  weekly_upper  multiplicative_terms  \\\n",
       "0       -0.074695     -0.074695                   0.0   \n",
       "1        0.655001      0.655001                   0.0   \n",
       "2        0.027798      0.027798                   0.0   \n",
       "3       -0.127115     -0.127115                   0.0   \n",
       "4        1.034885      1.034885                   0.0   \n",
       "..            ...           ...                   ...   \n",
       "259     -1.541046     -1.541046                   0.0   \n",
       "260     -0.074695     -0.074695                   0.0   \n",
       "261      0.655001      0.655001                   0.0   \n",
       "262      0.027798      0.027798                   0.0   \n",
       "263     -0.127115     -0.127115                   0.0   \n",
       "\n",
       "     multiplicative_terms_lower  multiplicative_terms_upper      yhat  \n",
       "0                           0.0                         0.0  3.007342  \n",
       "1                           0.0                         0.0  3.736683  \n",
       "2                           0.0                         0.0  3.109125  \n",
       "3                           0.0                         0.0  2.953858  \n",
       "4                           0.0                         0.0  4.115503  \n",
       "..                          ...                         ...       ...  \n",
       "259                         0.0                         0.0 -1.342557  \n",
       "260                         0.0                         0.0  0.114331  \n",
       "261                         0.0                         0.0  0.834563  \n",
       "262                         0.0                         0.0  0.197896  \n",
       "263                         0.0                         0.0  0.033520  \n",
       "\n",
       "[264 rows x 16 columns]>"
      ]
     },
     "execution_count": 23,
     "metadata": {},
     "output_type": "execute_result"
    }
   ],
   "source": [
    "forecast.head"
   ]
  },
  {
   "cell_type": "code",
   "execution_count": 24,
   "id": "38d0b230",
   "metadata": {},
   "outputs": [],
   "source": [
    "import csv\n",
    "\n",
    "timestamp = forecast[['ds']]\n",
    "tempFuture = forecast[['yhat']]\n",
    "\n",
    "#print(timestamp)\n",
    "#print(tempFuture)\n",
    "\n",
    "\n",
    "rows = zip(timestamp,tempFuture)\n",
    "forecast.to_csv('PredictOutput.csv')\n",
    "with open('predict.csv', \"w\") as f:\n",
    "    writer = csv.writer(f)\n",
    "    for row in rows:\n",
    "         writer.writerow(row)\n",
    "            "
   ]
  },
  {
   "cell_type": "code",
   "execution_count": null,
   "id": "2ff71f8e",
   "metadata": {},
   "outputs": [],
   "source": []
  }
 ],
 "metadata": {
  "kernelspec": {
   "display_name": "Python 3 (ipykernel)",
   "language": "python",
   "name": "python3"
  },
  "language_info": {
   "codemirror_mode": {
    "name": "ipython",
    "version": 3
   },
   "file_extension": ".py",
   "mimetype": "text/x-python",
   "name": "python",
   "nbconvert_exporter": "python",
   "pygments_lexer": "ipython3",
   "version": "3.10.9"
  }
 },
 "nbformat": 4,
 "nbformat_minor": 5
}
